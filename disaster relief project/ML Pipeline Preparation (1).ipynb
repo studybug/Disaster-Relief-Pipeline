{
 "cells": [
  {
   "cell_type": "markdown",
   "metadata": {},
   "source": [
    "# ML Pipeline Preparation\n",
    "Follow the instructions below to help you create your ML pipeline.\n",
    "### 1. Import libraries and load data from database.\n",
    "- Import Python libraries\n",
    "- Load dataset from database with [`read_sql_table`](https://pandas.pydata.org/pandas-docs/stable/generated/pandas.read_sql_table.html)\n",
    "- Define feature and target variables X and Y"
   ]
  },
  {
   "cell_type": "code",
   "execution_count": 1,
   "metadata": {
    "scrolled": false
   },
   "outputs": [
    {
     "name": "stdout",
     "output_type": "stream",
     "text": [
      "[nltk_data] Downloading package punkt to /root/nltk_data...\n",
      "[nltk_data]   Unzipping tokenizers/punkt.zip.\n",
      "[nltk_data] Downloading package wordnet to /root/nltk_data...\n",
      "[nltk_data]   Unzipping corpora/wordnet.zip.\n",
      "[nltk_data] Downloading package stopwords to /root/nltk_data...\n",
      "[nltk_data]   Unzipping corpora/stopwords.zip.\n"
     ]
    }
   ],
   "source": [
    "# import libraries\n",
    "\n",
    "from sqlalchemy import create_engine\n",
    "\n",
    "import nltk\n",
    "nltk.download(['punkt', 'wordnet', 'stopwords'])\n",
    "\n",
    "import re\n",
    "import numpy as np\n",
    "import pandas as pd\n",
    "import pickle\n",
    "from nltk.tokenize import word_tokenize\n",
    "from nltk.stem import WordNetLemmatizer\n",
    "\n",
    "from nltk.tokenize import word_tokenize\n",
    "from nltk.corpus import stopwords\n",
    "\n",
    "from sklearn.pipeline import Pipeline\n",
    "from sklearn.metrics import confusion_matrix\n",
    "from sklearn.model_selection import train_test_split\n",
    "from sklearn.ensemble import RandomForestClassifier\n",
    "from sklearn.feature_extraction.text import CountVectorizer, TfidfTransformer\n",
    "from sklearn.multioutput import MultiOutputClassifier\n",
    "from sklearn.svm import LinearSVC\n",
    "from sklearn.multiclass import OneVsRestClassifier\n",
    "\n",
    "from sklearn.metrics import classification_report\n",
    "from sklearn.model_selection import GridSearchCV"
   ]
  },
  {
   "cell_type": "code",
   "execution_count": 2,
   "metadata": {
    "scrolled": false
   },
   "outputs": [],
   "source": [
    "engine = create_engine('sqlite:///DisasterResponse.db')\n",
    "df = pd.read_sql_table('DisasterResponse', con=engine)\n",
    "\n",
    "X = df['message']\n",
    "y = df.drop(['id','message', 'original', 'genre'], axis=1)"
   ]
  },
  {
   "cell_type": "code",
   "execution_count": 3,
   "metadata": {
    "scrolled": false
   },
   "outputs": [
    {
     "data": {
      "text/plain": [
       "pandas.core.series.Series"
      ]
     },
     "execution_count": 3,
     "metadata": {},
     "output_type": "execute_result"
    }
   ],
   "source": [
    "type(X)"
   ]
  },
  {
   "cell_type": "code",
   "execution_count": 4,
   "metadata": {},
   "outputs": [
    {
     "data": {
      "text/plain": [
       "pandas.core.frame.DataFrame"
      ]
     },
     "execution_count": 4,
     "metadata": {},
     "output_type": "execute_result"
    }
   ],
   "source": [
    "type(y)"
   ]
  },
  {
   "cell_type": "code",
   "execution_count": 5,
   "metadata": {
    "scrolled": false
   },
   "outputs": [
    {
     "data": {
      "text/plain": [
       "(10223, 36)"
      ]
     },
     "execution_count": 5,
     "metadata": {},
     "output_type": "execute_result"
    }
   ],
   "source": [
    ">>> y.shape"
   ]
  },
  {
   "cell_type": "code",
   "execution_count": 6,
   "metadata": {
    "scrolled": true
   },
   "outputs": [
    {
     "data": {
      "text/plain": [
       "(10223,)"
      ]
     },
     "execution_count": 6,
     "metadata": {},
     "output_type": "execute_result"
    }
   ],
   "source": [
    ">>> X.shape"
   ]
  },
  {
   "cell_type": "code",
   "execution_count": 7,
   "metadata": {
    "scrolled": false
   },
   "outputs": [
    {
     "data": {
      "text/plain": [
       "False"
      ]
     },
     "execution_count": 7,
     "metadata": {},
     "output_type": "execute_result"
    }
   ],
   "source": [
    "np.isnan(y.values.any())"
   ]
  },
  {
   "cell_type": "markdown",
   "metadata": {},
   "source": [
    "### 2. Write a tokenization function to process your text data"
   ]
  },
  {
   "cell_type": "code",
   "execution_count": 8,
   "metadata": {},
   "outputs": [],
   "source": [
    "def tokenize(text):\n",
    "    url_regex = 'http[s]?://(?:[a-zA-Z]|[0-9]|[$-_@.&+]|[!*\\(\\),]|(?:%[0-9a-fA-F][0-9a-fA-F]))+'\n",
    "    detected_urls = re.findall(url_regex , text)\n",
    "    for url in detected_urls:\n",
    "        text = text.replace(url, \"urlplaceholder\")\n",
    "        \n",
    "    # Convert text to lowercase and remove punctuation\n",
    "    text = re.sub(r\"[^a-zA-Z0-9]\", \" \", text.lower())\n",
    "    \n",
    "    # Tokenize words\n",
    "    tokens = word_tokenize(text)\n",
    "    lemmatizer = WordNetLemmatizer()\n",
    "    \n",
    "    # load stop words\n",
    "    stop_words = stopwords.words(\"english\")\n",
    "    \n",
    "    # lemmatize andremove stop words\n",
    "    lemmatizer = WordNetLemmatizer()\n",
    "    tokens = [lemmatizer.lemmatize(word).strip() for word in tokens if word not in stop_words]\n",
    "\n",
    "    return tokens"
   ]
  },
  {
   "cell_type": "code",
   "execution_count": 9,
   "metadata": {},
   "outputs": [
    {
     "data": {
      "text/plain": [
       "['weather', 'update', 'cold', 'front', 'cuba', 'could', 'pas', 'haiti']"
      ]
     },
     "execution_count": 9,
     "metadata": {},
     "output_type": "execute_result"
    }
   ],
   "source": [
    "tokenize(X[0])"
   ]
  },
  {
   "cell_type": "markdown",
   "metadata": {},
   "source": [
    "### 3. Build a machine learning pipeline\n",
    "This machine pipeline should take in the `message` column as input and output classification results on the other 36 categories in the dataset. You may find the [MultiOutputClassifier](http://scikit-learn.org/stable/modules/generated/sklearn.multioutput.MultiOutputClassifier.html) helpful for predicting multiple target variables."
   ]
  },
  {
   "cell_type": "code",
   "execution_count": 10,
   "metadata": {
    "scrolled": false
   },
   "outputs": [],
   "source": [
    "pipeline = Pipeline([\n",
    "    ('vect', CountVectorizer(tokenizer = tokenize)),\n",
    "    ('tfidf', TfidfTransformer()),\n",
    "    ('clf', MultiOutputClassifier(RandomForestClassifier()))\n",
    "     ])"
   ]
  },
  {
   "cell_type": "code",
   "execution_count": 11,
   "metadata": {
    "scrolled": true
   },
   "outputs": [
    {
     "data": {
      "text/plain": [
       "{'memory': None,\n",
       " 'steps': [('vect',\n",
       "   CountVectorizer(analyzer='word', binary=False, decode_error='strict',\n",
       "           dtype=<class 'numpy.int64'>, encoding='utf-8', input='content',\n",
       "           lowercase=True, max_df=1.0, max_features=None, min_df=1,\n",
       "           ngram_range=(1, 1), preprocessor=None, stop_words=None,\n",
       "           strip_accents=None, token_pattern='(?u)\\\\b\\\\w\\\\w+\\\\b',\n",
       "           tokenizer=<function tokenize at 0x7f692b90a488>, vocabulary=None)),\n",
       "  ('tfidf',\n",
       "   TfidfTransformer(norm='l2', smooth_idf=True, sublinear_tf=False, use_idf=True)),\n",
       "  ('clf',\n",
       "   MultiOutputClassifier(estimator=RandomForestClassifier(bootstrap=True, class_weight=None, criterion='gini',\n",
       "               max_depth=None, max_features='auto', max_leaf_nodes=None,\n",
       "               min_impurity_decrease=0.0, min_impurity_split=None,\n",
       "               min_samples_leaf=1, min_samples_split=2,\n",
       "               min_weight_fraction_leaf=0.0, n_estimators=10, n_jobs=1,\n",
       "               oob_score=False, random_state=None, verbose=0,\n",
       "               warm_start=False),\n",
       "              n_jobs=1))],\n",
       " 'vect': CountVectorizer(analyzer='word', binary=False, decode_error='strict',\n",
       "         dtype=<class 'numpy.int64'>, encoding='utf-8', input='content',\n",
       "         lowercase=True, max_df=1.0, max_features=None, min_df=1,\n",
       "         ngram_range=(1, 1), preprocessor=None, stop_words=None,\n",
       "         strip_accents=None, token_pattern='(?u)\\\\b\\\\w\\\\w+\\\\b',\n",
       "         tokenizer=<function tokenize at 0x7f692b90a488>, vocabulary=None),\n",
       " 'tfidf': TfidfTransformer(norm='l2', smooth_idf=True, sublinear_tf=False, use_idf=True),\n",
       " 'clf': MultiOutputClassifier(estimator=RandomForestClassifier(bootstrap=True, class_weight=None, criterion='gini',\n",
       "             max_depth=None, max_features='auto', max_leaf_nodes=None,\n",
       "             min_impurity_decrease=0.0, min_impurity_split=None,\n",
       "             min_samples_leaf=1, min_samples_split=2,\n",
       "             min_weight_fraction_leaf=0.0, n_estimators=10, n_jobs=1,\n",
       "             oob_score=False, random_state=None, verbose=0,\n",
       "             warm_start=False),\n",
       "            n_jobs=1),\n",
       " 'vect__analyzer': 'word',\n",
       " 'vect__binary': False,\n",
       " 'vect__decode_error': 'strict',\n",
       " 'vect__dtype': numpy.int64,\n",
       " 'vect__encoding': 'utf-8',\n",
       " 'vect__input': 'content',\n",
       " 'vect__lowercase': True,\n",
       " 'vect__max_df': 1.0,\n",
       " 'vect__max_features': None,\n",
       " 'vect__min_df': 1,\n",
       " 'vect__ngram_range': (1, 1),\n",
       " 'vect__preprocessor': None,\n",
       " 'vect__stop_words': None,\n",
       " 'vect__strip_accents': None,\n",
       " 'vect__token_pattern': '(?u)\\\\b\\\\w\\\\w+\\\\b',\n",
       " 'vect__tokenizer': <function __main__.tokenize(text)>,\n",
       " 'vect__vocabulary': None,\n",
       " 'tfidf__norm': 'l2',\n",
       " 'tfidf__smooth_idf': True,\n",
       " 'tfidf__sublinear_tf': False,\n",
       " 'tfidf__use_idf': True,\n",
       " 'clf__estimator__bootstrap': True,\n",
       " 'clf__estimator__class_weight': None,\n",
       " 'clf__estimator__criterion': 'gini',\n",
       " 'clf__estimator__max_depth': None,\n",
       " 'clf__estimator__max_features': 'auto',\n",
       " 'clf__estimator__max_leaf_nodes': None,\n",
       " 'clf__estimator__min_impurity_decrease': 0.0,\n",
       " 'clf__estimator__min_impurity_split': None,\n",
       " 'clf__estimator__min_samples_leaf': 1,\n",
       " 'clf__estimator__min_samples_split': 2,\n",
       " 'clf__estimator__min_weight_fraction_leaf': 0.0,\n",
       " 'clf__estimator__n_estimators': 10,\n",
       " 'clf__estimator__n_jobs': 1,\n",
       " 'clf__estimator__oob_score': False,\n",
       " 'clf__estimator__random_state': None,\n",
       " 'clf__estimator__verbose': 0,\n",
       " 'clf__estimator__warm_start': False,\n",
       " 'clf__estimator': RandomForestClassifier(bootstrap=True, class_weight=None, criterion='gini',\n",
       "             max_depth=None, max_features='auto', max_leaf_nodes=None,\n",
       "             min_impurity_decrease=0.0, min_impurity_split=None,\n",
       "             min_samples_leaf=1, min_samples_split=2,\n",
       "             min_weight_fraction_leaf=0.0, n_estimators=10, n_jobs=1,\n",
       "             oob_score=False, random_state=None, verbose=0,\n",
       "             warm_start=False),\n",
       " 'clf__n_jobs': 1}"
      ]
     },
     "execution_count": 11,
     "metadata": {},
     "output_type": "execute_result"
    }
   ],
   "source": [
    "pipeline.get_params()"
   ]
  },
  {
   "cell_type": "markdown",
   "metadata": {},
   "source": [
    "### 4. Train pipeline\n",
    "- Split data into train and test sets\n",
    "- Train pipeline"
   ]
  },
  {
   "cell_type": "code",
   "execution_count": 12,
   "metadata": {
    "scrolled": true
   },
   "outputs": [
    {
     "data": {
      "text/plain": [
       "Pipeline(memory=None,\n",
       "     steps=[('vect', CountVectorizer(analyzer='word', binary=False, decode_error='strict',\n",
       "        dtype=<class 'numpy.int64'>, encoding='utf-8', input='content',\n",
       "        lowercase=True, max_df=1.0, max_features=None, min_df=1,\n",
       "        ngram_range=(1, 1), preprocessor=None, stop_words=None,\n",
       "        strip...oob_score=False, random_state=None, verbose=0,\n",
       "            warm_start=False),\n",
       "           n_jobs=1))])"
      ]
     },
     "execution_count": 12,
     "metadata": {},
     "output_type": "execute_result"
    }
   ],
   "source": [
    "X_train, X_test, y_train, y_test = train_test_split(X, y, test_size=0.2)\n",
    "pipeline.fit(X_train, y_train)"
   ]
  },
  {
   "cell_type": "markdown",
   "metadata": {},
   "source": [
    "### 5. Test your model\n",
    "Report the f1 score, precision and recall for each output category of the dataset. You can do this by iterating through the columns and calling sklearn's `classification_report` on each."
   ]
  },
  {
   "cell_type": "code",
   "execution_count": 13,
   "metadata": {},
   "outputs": [],
   "source": [
    "y_pred = pipeline.predict(X_test)"
   ]
  },
  {
   "cell_type": "code",
   "execution_count": 14,
   "metadata": {
    "scrolled": true
   },
   "outputs": [
    {
     "name": "stdout",
     "output_type": "stream",
     "text": [
      "related\n",
      "             precision    recall  f1-score   support\n",
      "\n",
      "        0.0       0.39      0.23      0.29       687\n",
      "        1.0       0.68      0.81      0.74      1358\n",
      "\n",
      "avg / total       0.58      0.62      0.59      2045\n",
      "\n",
      "-----------------------------------------------------\n",
      "request\n",
      "             precision    recall  f1-score   support\n",
      "\n",
      "        0.0       0.65      0.87      0.74      1307\n",
      "        1.0       0.42      0.16      0.23       738\n",
      "\n",
      "avg / total       0.56      0.62      0.56      2045\n",
      "\n",
      "-----------------------------------------------------\n",
      "offer\n",
      "             precision    recall  f1-score   support\n",
      "\n",
      "        0.0       1.00      1.00      1.00      2043\n",
      "        1.0       0.00      0.00      0.00         2\n",
      "\n",
      "avg / total       1.00      1.00      1.00      2045\n",
      "\n",
      "-----------------------------------------------------\n",
      "aid_related\n",
      "             precision    recall  f1-score   support\n",
      "\n",
      "        0.0       0.64      0.85      0.73      1262\n",
      "        1.0       0.47      0.22      0.30       783\n",
      "\n",
      "avg / total       0.57      0.61      0.56      2045\n",
      "\n",
      "-----------------------------------------------------\n",
      "medical_help\n",
      "             precision    recall  f1-score   support\n",
      "\n",
      "        0.0       0.94      1.00      0.97      1932\n",
      "        1.0       0.00      0.00      0.00       113\n",
      "\n",
      "avg / total       0.89      0.94      0.92      2045\n",
      "\n",
      "-----------------------------------------------------\n",
      "medical_products\n",
      "             precision    recall  f1-score   support\n",
      "\n",
      "        0.0       0.96      1.00      0.98      1967\n",
      "        1.0       0.00      0.00      0.00        78\n",
      "\n",
      "avg / total       0.93      0.96      0.94      2045\n",
      "\n",
      "-----------------------------------------------------\n",
      "search_and_rescue\n",
      "             precision    recall  f1-score   support\n",
      "\n",
      "        0.0       0.98      1.00      0.99      2001\n",
      "        1.0       0.00      0.00      0.00        44\n",
      "\n",
      "avg / total       0.96      0.98      0.97      2045\n",
      "\n",
      "-----------------------------------------------------\n",
      "security\n",
      "             precision    recall  f1-score   support\n",
      "\n",
      "        0.0       0.99      1.00      0.99      2024\n",
      "        1.0       0.00      0.00      0.00        21\n",
      "\n",
      "avg / total       0.98      0.99      0.98      2045\n",
      "\n",
      "-----------------------------------------------------\n",
      "military\n",
      "             precision    recall  f1-score   support\n",
      "\n",
      "        0.0       0.99      1.00      1.00      2032\n",
      "        1.0       0.00      0.00      0.00        13\n",
      "\n",
      "avg / total       0.99      0.99      0.99      2045\n",
      "\n",
      "-----------------------------------------------------\n",
      "child_alone\n",
      "             precision    recall  f1-score   support\n",
      "\n",
      "        0.0       1.00      1.00      1.00      2045\n",
      "\n",
      "avg / total       1.00      1.00      1.00      2045\n",
      "\n",
      "-----------------------------------------------------\n",
      "water\n",
      "             precision    recall  f1-score   support\n",
      "\n",
      "        0.0       0.92      0.99      0.95      1882\n",
      "        1.0       0.12      0.02      0.03       163\n",
      "\n",
      "avg / total       0.86      0.91      0.88      2045\n",
      "\n",
      "-----------------------------------------------------\n",
      "food\n",
      "             precision    recall  f1-score   support\n",
      "\n",
      "        0.0       0.85      0.99      0.91      1748\n",
      "        1.0       0.10      0.01      0.02       297\n",
      "\n",
      "avg / total       0.75      0.84      0.78      2045\n",
      "\n",
      "-----------------------------------------------------\n",
      "shelter\n",
      "             precision    recall  f1-score   support\n",
      "\n",
      "        0.0       0.90      0.98      0.94      1841\n",
      "        1.0       0.07      0.01      0.02       204\n",
      "\n",
      "avg / total       0.82      0.89      0.85      2045\n",
      "\n",
      "-----------------------------------------------------\n",
      "clothing\n",
      "             precision    recall  f1-score   support\n",
      "\n",
      "        0.0       0.99      1.00      1.00      2027\n",
      "        1.0       0.00      0.00      0.00        18\n",
      "\n",
      "avg / total       0.98      0.99      0.99      2045\n",
      "\n",
      "-----------------------------------------------------\n",
      "money\n",
      "             precision    recall  f1-score   support\n",
      "\n",
      "        0.0       0.99      1.00      1.00      2025\n",
      "        1.0       0.00      0.00      0.00        20\n",
      "\n",
      "avg / total       0.98      0.99      0.99      2045\n",
      "\n",
      "-----------------------------------------------------\n",
      "missing_people\n",
      "             precision    recall  f1-score   support\n",
      "\n",
      "        0.0       0.99      1.00      1.00      2029\n",
      "        1.0       0.00      0.00      0.00        16\n",
      "\n",
      "avg / total       0.98      0.99      0.99      2045\n",
      "\n",
      "-----------------------------------------------------\n",
      "refugees\n",
      "             precision    recall  f1-score   support\n",
      "\n",
      "        0.0       0.98      1.00      0.99      2013\n",
      "        1.0       0.00      0.00      0.00        32\n",
      "\n",
      "avg / total       0.97      0.98      0.98      2045\n",
      "\n",
      "-----------------------------------------------------\n",
      "death\n",
      "             precision    recall  f1-score   support\n",
      "\n",
      "        0.0       0.98      1.00      0.99      1996\n",
      "        1.0       0.00      0.00      0.00        49\n",
      "\n",
      "avg / total       0.95      0.97      0.96      2045\n",
      "\n",
      "-----------------------------------------------------\n",
      "other_aid\n",
      "             precision    recall  f1-score   support\n",
      "\n",
      "        0.0       0.85      0.98      0.91      1744\n",
      "        1.0       0.22      0.03      0.05       301\n",
      "\n",
      "avg / total       0.76      0.84      0.79      2045\n",
      "\n",
      "-----------------------------------------------------\n",
      "infrastructure_related\n",
      "             precision    recall  f1-score   support\n",
      "\n",
      "        0.0       0.97      1.00      0.99      1989\n",
      "        1.0       0.00      0.00      0.00        56\n",
      "\n",
      "avg / total       0.95      0.97      0.96      2045\n",
      "\n",
      "-----------------------------------------------------\n",
      "transport\n",
      "             precision    recall  f1-score   support\n",
      "\n",
      "        0.0       0.98      1.00      0.99      2005\n",
      "        1.0       0.00      0.00      0.00        40\n",
      "\n",
      "avg / total       0.96      0.98      0.97      2045\n",
      "\n",
      "-----------------------------------------------------\n",
      "buildings\n",
      "             precision    recall  f1-score   support\n",
      "\n",
      "        0.0       0.97      0.99      0.98      1976\n",
      "        1.0       0.08      0.01      0.02        69\n",
      "\n",
      "avg / total       0.94      0.96      0.95      2045\n",
      "\n",
      "-----------------------------------------------------\n",
      "electricity\n",
      "             precision    recall  f1-score   support\n",
      "\n",
      "        0.0       0.99      1.00      1.00      2034\n",
      "        1.0       0.00      0.00      0.00        11\n",
      "\n",
      "avg / total       0.99      0.99      0.99      2045\n",
      "\n",
      "-----------------------------------------------------\n",
      "tools\n",
      "             precision    recall  f1-score   support\n",
      "\n",
      "        0.0       1.00      1.00      1.00      2041\n",
      "        1.0       0.00      0.00      0.00         4\n",
      "\n",
      "avg / total       1.00      1.00      1.00      2045\n",
      "\n",
      "-----------------------------------------------------\n",
      "hospitals\n",
      "             precision    recall  f1-score   support\n",
      "\n",
      "        0.0       1.00      1.00      1.00      2036\n",
      "        1.0       0.00      0.00      0.00         9\n",
      "\n",
      "avg / total       0.99      1.00      0.99      2045\n",
      "\n",
      "-----------------------------------------------------\n",
      "shops\n",
      "             precision    recall  f1-score   support\n",
      "\n",
      "        0.0       1.00      1.00      1.00      2040\n",
      "        1.0       0.00      0.00      0.00         5\n",
      "\n",
      "avg / total       1.00      1.00      1.00      2045\n",
      "\n",
      "-----------------------------------------------------\n",
      "aid_centers\n",
      "             precision    recall  f1-score   support\n",
      "\n",
      "        0.0       0.99      1.00      1.00      2034\n",
      "        1.0       0.00      0.00      0.00        11\n",
      "\n",
      "avg / total       0.99      0.99      0.99      2045\n",
      "\n",
      "-----------------------------------------------------\n",
      "other_infrastructure\n",
      "             precision    recall  f1-score   support\n",
      "\n",
      "        0.0       0.98      1.00      0.99      2012\n",
      "        1.0       0.00      0.00      0.00        33\n",
      "\n",
      "avg / total       0.97      0.98      0.98      2045\n",
      "\n",
      "-----------------------------------------------------\n",
      "weather_related\n",
      "             precision    recall  f1-score   support\n",
      "\n",
      "        0.0       0.86      0.97      0.91      1744\n",
      "        1.0       0.23      0.05      0.08       301\n",
      "\n",
      "avg / total       0.76      0.84      0.79      2045\n",
      "\n",
      "-----------------------------------------------------\n",
      "floods\n",
      "             precision    recall  f1-score   support\n",
      "\n",
      "        0.0       0.98      1.00      0.99      1999\n",
      "        1.0       0.17      0.02      0.04        46\n",
      "\n",
      "avg / total       0.96      0.98      0.97      2045\n",
      "\n",
      "-----------------------------------------------------\n",
      "storm\n",
      "             precision    recall  f1-score   support\n",
      "\n",
      "        0.0       0.97      1.00      0.98      1980\n",
      "        1.0       0.00      0.00      0.00        65\n",
      "\n",
      "avg / total       0.94      0.97      0.95      2045\n",
      "\n",
      "-----------------------------------------------------\n",
      "fire\n",
      "             precision    recall  f1-score   support\n",
      "\n",
      "        0.0       1.00      1.00      1.00      2036\n",
      "        1.0       0.00      0.00      0.00         9\n",
      "\n",
      "avg / total       0.99      1.00      0.99      2045\n",
      "\n",
      "-----------------------------------------------------\n",
      "earthquake\n",
      "             precision    recall  f1-score   support\n",
      "\n",
      "        0.0       0.92      0.98      0.95      1873\n",
      "        1.0       0.12      0.02      0.04       172\n",
      "\n",
      "avg / total       0.85      0.90      0.87      2045\n",
      "\n",
      "-----------------------------------------------------\n",
      "cold\n",
      "             precision    recall  f1-score   support\n",
      "\n",
      "        0.0       0.99      1.00      1.00      2034\n",
      "        1.0       0.00      0.00      0.00        11\n",
      "\n",
      "avg / total       0.99      0.99      0.99      2045\n",
      "\n",
      "-----------------------------------------------------\n",
      "other_weather\n",
      "             precision    recall  f1-score   support\n",
      "\n",
      "        0.0       0.98      1.00      0.99      2007\n",
      "        1.0       0.00      0.00      0.00        38\n",
      "\n",
      "avg / total       0.96      0.98      0.97      2045\n",
      "\n",
      "-----------------------------------------------------\n",
      "direct_report\n",
      "             precision    recall  f1-score   support\n",
      "\n",
      "        0.0       0.66      0.87      0.75      1350\n",
      "        1.0       0.37      0.14      0.20       695\n",
      "\n",
      "avg / total       0.56      0.62      0.57      2045\n",
      "\n",
      "-----------------------------------------------------\n"
     ]
    },
    {
     "name": "stderr",
     "output_type": "stream",
     "text": [
      "/opt/conda/lib/python3.6/site-packages/sklearn/metrics/classification.py:1135: UndefinedMetricWarning: Precision and F-score are ill-defined and being set to 0.0 in labels with no predicted samples.\n",
      "  'precision', 'predicted', average, warn_for)\n"
     ]
    }
   ],
   "source": [
    "for col in range(36):\n",
    "    print(y_test.columns[col])\n",
    "    print(classification_report(y_test.iloc[:,col], y_pred[:,col]))\n",
    "    print('-----------------------------------------------------')"
   ]
  },
  {
   "cell_type": "code",
   "execution_count": 15,
   "metadata": {
    "scrolled": true
   },
   "outputs": [
    {
     "name": "stdout",
     "output_type": "stream",
     "text": [
      "['related', 'request', 'offer', 'aid_related', 'medical_help', 'medical_products', 'search_and_rescue', 'security', 'military', 'child_alone', 'water', 'food', 'shelter', 'clothing', 'money', 'missing_people', 'refugees', 'death', 'other_aid', 'infrastructure_related', 'transport', 'buildings', 'electricity', 'tools', 'hospitals', 'shops', 'aid_centers', 'other_infrastructure', 'weather_related', 'floods', 'storm', 'fire', 'earthquake', 'cold', 'other_weather', 'direct_report']\n"
     ]
    }
   ],
   "source": [
    "target_names = list(y.columns)\n",
    "print(target_names)"
   ]
  },
  {
   "cell_type": "code",
   "execution_count": 16,
   "metadata": {},
   "outputs": [],
   "source": [
    "# it performed two tests and on the second test it usually preformed less in terms of precision and recall"
   ]
  },
  {
   "cell_type": "markdown",
   "metadata": {},
   "source": [
    "### 6. Improve your model\n",
    "Use grid search to find better parameters. "
   ]
  },
  {
   "cell_type": "code",
   "execution_count": 17,
   "metadata": {
    "scrolled": true
   },
   "outputs": [
    {
     "data": {
      "text/plain": [
       "dict_keys(['memory', 'steps', 'vect', 'tfidf', 'clf', 'vect__analyzer', 'vect__binary', 'vect__decode_error', 'vect__dtype', 'vect__encoding', 'vect__input', 'vect__lowercase', 'vect__max_df', 'vect__max_features', 'vect__min_df', 'vect__ngram_range', 'vect__preprocessor', 'vect__stop_words', 'vect__strip_accents', 'vect__token_pattern', 'vect__tokenizer', 'vect__vocabulary', 'tfidf__norm', 'tfidf__smooth_idf', 'tfidf__sublinear_tf', 'tfidf__use_idf', 'clf__estimator__bootstrap', 'clf__estimator__class_weight', 'clf__estimator__criterion', 'clf__estimator__max_depth', 'clf__estimator__max_features', 'clf__estimator__max_leaf_nodes', 'clf__estimator__min_impurity_decrease', 'clf__estimator__min_impurity_split', 'clf__estimator__min_samples_leaf', 'clf__estimator__min_samples_split', 'clf__estimator__min_weight_fraction_leaf', 'clf__estimator__n_estimators', 'clf__estimator__n_jobs', 'clf__estimator__oob_score', 'clf__estimator__random_state', 'clf__estimator__verbose', 'clf__estimator__warm_start', 'clf__estimator', 'clf__n_jobs'])"
      ]
     },
     "execution_count": 17,
     "metadata": {},
     "output_type": "execute_result"
    }
   ],
   "source": [
    "pipeline.get_params().keys()"
   ]
  },
  {
   "cell_type": "code",
   "execution_count": 18,
   "metadata": {},
   "outputs": [],
   "source": [
    "parameters = {'vect__max_features': (None, 5000), \n",
    "              'clf__estimator__n_estimators': [10, 20] \n",
    "             } \n",
    "\n",
    "\n",
    "cv = GridSearchCV(pipeline, param_grid=parameters, scoring='f1_micro', verbose=1, n_jobs=-1)"
   ]
  },
  {
   "cell_type": "markdown",
   "metadata": {},
   "source": [
    "### 7. Test your model\n",
    "Show the accuracy, precision, and recall of the tuned model.  \n",
    "\n",
    "Since this project focuses on code quality, process, and  pipelines, there is no minimum performance metric needed to pass. However, make sure to fine tune your models for accuracy, precision and recall to make your project stand out - especially for your portfolio!"
   ]
  },
  {
   "cell_type": "code",
   "execution_count": 19,
   "metadata": {
    "scrolled": true
   },
   "outputs": [
    {
     "name": "stdout",
     "output_type": "stream",
     "text": [
      "Fitting 3 folds for each of 4 candidates, totalling 12 fits\n"
     ]
    },
    {
     "name": "stderr",
     "output_type": "stream",
     "text": [
      "[Parallel(n_jobs=-1)]: Done  12 out of  12 | elapsed:  4.6min finished\n"
     ]
    },
    {
     "data": {
      "text/plain": [
       "GridSearchCV(cv=None, error_score='raise',\n",
       "       estimator=Pipeline(memory=None,\n",
       "     steps=[('vect', CountVectorizer(analyzer='word', binary=False, decode_error='strict',\n",
       "        dtype=<class 'numpy.int64'>, encoding='utf-8', input='content',\n",
       "        lowercase=True, max_df=1.0, max_features=None, min_df=1,\n",
       "        ngram_range=(1, 1), preprocessor=None, stop_words=None,\n",
       "        strip...oob_score=False, random_state=None, verbose=0,\n",
       "            warm_start=False),\n",
       "           n_jobs=1))]),\n",
       "       fit_params=None, iid=True, n_jobs=-1,\n",
       "       param_grid={'vect__max_features': (None, 5000), 'clf__estimator__n_estimators': [10, 20]},\n",
       "       pre_dispatch='2*n_jobs', refit=True, return_train_score='warn',\n",
       "       scoring='f1_micro', verbose=1)"
      ]
     },
     "execution_count": 19,
     "metadata": {},
     "output_type": "execute_result"
    }
   ],
   "source": [
    "cv.fit(X_train, y_train)"
   ]
  },
  {
   "cell_type": "code",
   "execution_count": 20,
   "metadata": {},
   "outputs": [],
   "source": [
    "y_pred = cv.predict(X_test)"
   ]
  },
  {
   "cell_type": "code",
   "execution_count": 21,
   "metadata": {
    "scrolled": false
   },
   "outputs": [
    {
     "name": "stdout",
     "output_type": "stream",
     "text": [
      "                        precision    recall  f1-score   support\n",
      "\n",
      "               related       0.67      0.84      0.75      1358\n",
      "               request       0.47      0.15      0.23       738\n",
      "                 offer       0.00      0.00      0.00         2\n",
      "           aid_related       0.47      0.25      0.33       783\n",
      "          medical_help       0.00      0.00      0.00       113\n",
      "      medical_products       0.00      0.00      0.00        78\n",
      "     search_and_rescue       0.00      0.00      0.00        44\n",
      "              security       0.00      0.00      0.00        21\n",
      "              military       0.00      0.00      0.00        13\n",
      "           child_alone       0.00      0.00      0.00         0\n",
      "                 water       0.19      0.02      0.03       163\n",
      "                  food       0.09      0.01      0.01       297\n",
      "               shelter       0.09      0.01      0.02       204\n",
      "              clothing       0.00      0.00      0.00        18\n",
      "                 money       0.00      0.00      0.00        20\n",
      "        missing_people       0.00      0.00      0.00        16\n",
      "              refugees       0.00      0.00      0.00        32\n",
      "                 death       0.00      0.00      0.00        49\n",
      "             other_aid       0.12      0.02      0.03       301\n",
      "infrastructure_related       0.00      0.00      0.00        56\n",
      "             transport       0.00      0.00      0.00        40\n",
      "             buildings       0.00      0.00      0.00        69\n",
      "           electricity       0.00      0.00      0.00        11\n",
      "                 tools       0.00      0.00      0.00         4\n",
      "             hospitals       0.00      0.00      0.00         9\n",
      "                 shops       0.00      0.00      0.00         5\n",
      "           aid_centers       0.00      0.00      0.00        11\n",
      "  other_infrastructure       0.00      0.00      0.00        33\n",
      "       weather_related       0.16      0.03      0.05       301\n",
      "                floods       0.14      0.04      0.07        46\n",
      "                 storm       0.00      0.00      0.00        65\n",
      "                  fire       0.00      0.00      0.00         9\n",
      "            earthquake       0.03      0.01      0.01       172\n",
      "                  cold       0.00      0.00      0.00        11\n",
      "         other_weather       0.00      0.00      0.00        38\n",
      "         direct_report       0.37      0.14      0.20       695\n",
      "\n",
      "           avg / total       0.35      0.27      0.28      5825\n",
      "\n"
     ]
    },
    {
     "name": "stderr",
     "output_type": "stream",
     "text": [
      "/opt/conda/lib/python3.6/site-packages/sklearn/metrics/classification.py:1135: UndefinedMetricWarning: Precision and F-score are ill-defined and being set to 0.0 in labels with no predicted samples.\n",
      "  'precision', 'predicted', average, warn_for)\n",
      "/opt/conda/lib/python3.6/site-packages/sklearn/metrics/classification.py:1137: UndefinedMetricWarning: Recall and F-score are ill-defined and being set to 0.0 in labels with no true samples.\n",
      "  'recall', 'true', average, warn_for)\n"
     ]
    }
   ],
   "source": [
    "class_report = classification_report(y_test, y_pred, target_names=target_names)\n",
    "print(class_report)"
   ]
  },
  {
   "cell_type": "code",
   "execution_count": 22,
   "metadata": {},
   "outputs": [
    {
     "name": "stdout",
     "output_type": "stream",
     "text": [
      "related\n",
      "             precision    recall  f1-score   support\n",
      "\n",
      "        0.0       0.37      0.18      0.24       687\n",
      "        1.0       0.67      0.84      0.75      1358\n",
      "\n",
      "avg / total       0.57      0.62      0.58      2045\n",
      "\n",
      "-----------------------------------------------------\n",
      "request\n",
      "             precision    recall  f1-score   support\n",
      "\n",
      "        0.0       0.65      0.90      0.76      1307\n",
      "        1.0       0.47      0.15      0.23       738\n",
      "\n",
      "avg / total       0.59      0.63      0.57      2045\n",
      "\n",
      "-----------------------------------------------------\n",
      "offer\n",
      "             precision    recall  f1-score   support\n",
      "\n",
      "        0.0       1.00      1.00      1.00      2043\n",
      "        1.0       0.00      0.00      0.00         2\n",
      "\n",
      "avg / total       1.00      1.00      1.00      2045\n",
      "\n",
      "-----------------------------------------------------\n",
      "aid_related\n",
      "             precision    recall  f1-score   support\n",
      "\n",
      "        0.0       0.64      0.83      0.72      1262\n",
      "        1.0       0.47      0.25      0.33       783\n",
      "\n",
      "avg / total       0.58      0.61      0.57      2045\n",
      "\n",
      "-----------------------------------------------------\n",
      "medical_help\n",
      "             precision    recall  f1-score   support\n",
      "\n",
      "        0.0       0.94      1.00      0.97      1932\n",
      "        1.0       0.00      0.00      0.00       113\n",
      "\n",
      "avg / total       0.89      0.94      0.92      2045\n",
      "\n",
      "-----------------------------------------------------\n",
      "medical_products\n",
      "             precision    recall  f1-score   support\n",
      "\n",
      "        0.0       0.96      1.00      0.98      1967\n",
      "        1.0       0.00      0.00      0.00        78\n",
      "\n",
      "avg / total       0.93      0.96      0.94      2045\n",
      "\n",
      "-----------------------------------------------------\n",
      "search_and_rescue\n",
      "             precision    recall  f1-score   support\n",
      "\n",
      "        0.0       0.98      1.00      0.99      2001\n",
      "        1.0       0.00      0.00      0.00        44\n",
      "\n",
      "avg / total       0.96      0.98      0.97      2045\n",
      "\n",
      "-----------------------------------------------------\n",
      "security\n",
      "             precision    recall  f1-score   support\n",
      "\n",
      "        0.0       0.99      1.00      0.99      2024\n",
      "        1.0       0.00      0.00      0.00        21\n",
      "\n",
      "avg / total       0.98      0.99      0.98      2045\n",
      "\n",
      "-----------------------------------------------------\n",
      "military\n",
      "             precision    recall  f1-score   support\n",
      "\n",
      "        0.0       0.99      1.00      1.00      2032\n",
      "        1.0       0.00      0.00      0.00        13\n",
      "\n",
      "avg / total       0.99      0.99      0.99      2045\n",
      "\n",
      "-----------------------------------------------------\n",
      "child_alone\n",
      "             precision    recall  f1-score   support\n",
      "\n",
      "        0.0       1.00      1.00      1.00      2045\n",
      "\n",
      "avg / total       1.00      1.00      1.00      2045\n",
      "\n",
      "-----------------------------------------------------\n",
      "water\n",
      "             precision    recall  f1-score   support\n",
      "\n",
      "        0.0       0.92      0.99      0.96      1882\n",
      "        1.0       0.19      0.02      0.03       163\n",
      "\n",
      "avg / total       0.86      0.92      0.88      2045\n",
      "\n",
      "-----------------------------------------------------\n",
      "food\n",
      "             precision    recall  f1-score   support\n",
      "\n",
      "        0.0       0.85      0.99      0.92      1748\n",
      "        1.0       0.09      0.01      0.01       297\n",
      "\n",
      "avg / total       0.74      0.85      0.78      2045\n",
      "\n",
      "-----------------------------------------------------\n",
      "shelter\n",
      "             precision    recall  f1-score   support\n",
      "\n",
      "        0.0       0.90      0.99      0.94      1841\n",
      "        1.0       0.09      0.01      0.02       204\n",
      "\n",
      "avg / total       0.82      0.89      0.85      2045\n",
      "\n",
      "-----------------------------------------------------\n",
      "clothing\n",
      "             precision    recall  f1-score   support\n",
      "\n",
      "        0.0       0.99      1.00      1.00      2027\n",
      "        1.0       0.00      0.00      0.00        18\n",
      "\n",
      "avg / total       0.98      0.99      0.99      2045\n",
      "\n",
      "-----------------------------------------------------\n",
      "money\n",
      "             precision    recall  f1-score   support\n",
      "\n",
      "        0.0       0.99      1.00      0.99      2025\n",
      "        1.0       0.00      0.00      0.00        20\n",
      "\n",
      "avg / total       0.98      0.99      0.98      2045\n",
      "\n",
      "-----------------------------------------------------\n",
      "missing_people\n",
      "             precision    recall  f1-score   support\n",
      "\n",
      "        0.0       0.99      1.00      1.00      2029\n",
      "        1.0       0.00      0.00      0.00        16\n",
      "\n",
      "avg / total       0.98      0.99      0.99      2045\n",
      "\n",
      "-----------------------------------------------------\n",
      "refugees\n",
      "             precision    recall  f1-score   support\n",
      "\n",
      "        0.0       0.98      1.00      0.99      2013\n",
      "        1.0       0.00      0.00      0.00        32\n",
      "\n",
      "avg / total       0.97      0.98      0.98      2045\n",
      "\n",
      "-----------------------------------------------------\n",
      "death\n",
      "             precision    recall  f1-score   support\n",
      "\n",
      "        0.0       0.98      1.00      0.99      1996\n",
      "        1.0       0.00      0.00      0.00        49\n",
      "\n",
      "avg / total       0.95      0.98      0.96      2045\n",
      "\n",
      "-----------------------------------------------------\n",
      "other_aid\n",
      "             precision    recall  f1-score   support\n",
      "\n",
      "        0.0       0.85      0.98      0.91      1744\n",
      "        1.0       0.12      0.02      0.03       301\n",
      "\n",
      "avg / total       0.75      0.84      0.78      2045\n",
      "\n",
      "-----------------------------------------------------\n",
      "infrastructure_related\n",
      "             precision    recall  f1-score   support\n",
      "\n",
      "        0.0       0.97      1.00      0.99      1989\n",
      "        1.0       0.00      0.00      0.00        56\n",
      "\n",
      "avg / total       0.95      0.97      0.96      2045\n",
      "\n",
      "-----------------------------------------------------\n",
      "transport\n",
      "             precision    recall  f1-score   support\n",
      "\n",
      "        0.0       0.98      1.00      0.99      2005\n",
      "        1.0       0.00      0.00      0.00        40\n",
      "\n",
      "avg / total       0.96      0.98      0.97      2045\n",
      "\n",
      "-----------------------------------------------------\n",
      "buildings\n",
      "             precision    recall  f1-score   support\n",
      "\n",
      "        0.0       0.97      0.99      0.98      1976\n",
      "        1.0       0.00      0.00      0.00        69\n",
      "\n",
      "avg / total       0.93      0.96      0.95      2045\n",
      "\n",
      "-----------------------------------------------------\n",
      "electricity\n",
      "             precision    recall  f1-score   support\n",
      "\n",
      "        0.0       0.99      1.00      1.00      2034\n",
      "        1.0       0.00      0.00      0.00        11\n",
      "\n",
      "avg / total       0.99      0.99      0.99      2045\n",
      "\n",
      "-----------------------------------------------------\n",
      "tools\n",
      "             precision    recall  f1-score   support\n",
      "\n",
      "        0.0       1.00      1.00      1.00      2041\n",
      "        1.0       0.00      0.00      0.00         4\n",
      "\n",
      "avg / total       1.00      1.00      1.00      2045\n",
      "\n",
      "-----------------------------------------------------\n",
      "hospitals\n",
      "             precision    recall  f1-score   support\n",
      "\n",
      "        0.0       1.00      1.00      1.00      2036\n",
      "        1.0       0.00      0.00      0.00         9\n",
      "\n",
      "avg / total       0.99      1.00      0.99      2045\n",
      "\n",
      "-----------------------------------------------------\n",
      "shops\n",
      "             precision    recall  f1-score   support\n",
      "\n",
      "        0.0       1.00      1.00      1.00      2040\n",
      "        1.0       0.00      0.00      0.00         5\n",
      "\n",
      "avg / total       1.00      1.00      1.00      2045\n",
      "\n",
      "-----------------------------------------------------\n",
      "aid_centers\n",
      "             precision    recall  f1-score   support\n",
      "\n",
      "        0.0       0.99      1.00      1.00      2034\n",
      "        1.0       0.00      0.00      0.00        11\n",
      "\n",
      "avg / total       0.99      0.99      0.99      2045\n",
      "\n",
      "-----------------------------------------------------\n",
      "other_infrastructure\n",
      "             precision    recall  f1-score   support\n",
      "\n",
      "        0.0       0.98      1.00      0.99      2012\n",
      "        1.0       0.00      0.00      0.00        33\n",
      "\n",
      "avg / total       0.97      0.98      0.98      2045\n",
      "\n",
      "-----------------------------------------------------\n",
      "weather_related\n",
      "             precision    recall  f1-score   support\n",
      "\n",
      "        0.0       0.85      0.97      0.91      1744\n",
      "        1.0       0.16      0.03      0.05       301\n",
      "\n",
      "avg / total       0.75      0.83      0.78      2045\n",
      "\n",
      "-----------------------------------------------------\n",
      "floods\n",
      "             precision    recall  f1-score   support\n",
      "\n",
      "        0.0       0.98      0.99      0.99      1999\n",
      "        1.0       0.14      0.04      0.07        46\n",
      "\n",
      "avg / total       0.96      0.97      0.97      2045\n",
      "\n",
      "-----------------------------------------------------\n",
      "storm\n",
      "             precision    recall  f1-score   support\n",
      "\n",
      "        0.0       0.97      1.00      0.98      1980\n",
      "        1.0       0.00      0.00      0.00        65\n",
      "\n",
      "avg / total       0.94      0.97      0.95      2045\n",
      "\n",
      "-----------------------------------------------------\n",
      "fire\n",
      "             precision    recall  f1-score   support\n",
      "\n",
      "        0.0       1.00      1.00      1.00      2036\n",
      "        1.0       0.00      0.00      0.00         9\n",
      "\n",
      "avg / total       0.99      1.00      0.99      2045\n",
      "\n",
      "-----------------------------------------------------\n",
      "earthquake\n",
      "             precision    recall  f1-score   support\n",
      "\n",
      "        0.0       0.92      0.98      0.95      1873\n",
      "        1.0       0.03      0.01      0.01       172\n",
      "\n",
      "avg / total       0.84      0.90      0.87      2045\n",
      "\n",
      "-----------------------------------------------------\n",
      "cold\n",
      "             precision    recall  f1-score   support\n",
      "\n",
      "        0.0       0.99      1.00      1.00      2034\n",
      "        1.0       0.00      0.00      0.00        11\n",
      "\n",
      "avg / total       0.99      0.99      0.99      2045\n",
      "\n",
      "-----------------------------------------------------\n",
      "other_weather\n",
      "             precision    recall  f1-score   support\n",
      "\n",
      "        0.0       0.98      1.00      0.99      2007\n",
      "        1.0       0.00      0.00      0.00        38\n",
      "\n",
      "avg / total       0.96      0.98      0.97      2045\n",
      "\n",
      "-----------------------------------------------------\n",
      "direct_report\n",
      "             precision    recall  f1-score   support\n",
      "\n",
      "        0.0       0.66      0.88      0.76      1350\n",
      "        1.0       0.37      0.14      0.20       695\n",
      "\n",
      "avg / total       0.57      0.63      0.57      2045\n",
      "\n",
      "-----------------------------------------------------\n"
     ]
    },
    {
     "name": "stderr",
     "output_type": "stream",
     "text": [
      "/opt/conda/lib/python3.6/site-packages/sklearn/metrics/classification.py:1135: UndefinedMetricWarning: Precision and F-score are ill-defined and being set to 0.0 in labels with no predicted samples.\n",
      "  'precision', 'predicted', average, warn_for)\n"
     ]
    }
   ],
   "source": [
    "for col in range(36):\n",
    "    print(y_test.columns[col])\n",
    "    print(classification_report(y_test.iloc[:,col], y_pred[:,col]))\n",
    "    print('-----------------------------------------------------')"
   ]
  },
  {
   "cell_type": "markdown",
   "metadata": {},
   "source": [
    "### 8. Try improving your model further. Here are a few ideas:\n",
    "* try other machine learning algorithms\n",
    "* add other features besides the TF-IDF"
   ]
  },
  {
   "cell_type": "code",
   "execution_count": 23,
   "metadata": {},
   "outputs": [
    {
     "data": {
      "text/plain": [
       "{'clf__estimator__n_estimators': 20, 'vect__max_features': None}"
      ]
     },
     "execution_count": 23,
     "metadata": {},
     "output_type": "execute_result"
    }
   ],
   "source": [
    "cv.best_params_"
   ]
  },
  {
   "cell_type": "code",
   "execution_count": null,
   "metadata": {},
   "outputs": [],
   "source": []
  },
  {
   "cell_type": "markdown",
   "metadata": {},
   "source": [
    "### 9. Export your model as a pickle file"
   ]
  },
  {
   "cell_type": "code",
   "execution_count": 24,
   "metadata": {
    "scrolled": false
   },
   "outputs": [],
   "source": [
    "with open('classifier.pkl', 'wb') as file:\n",
    "    pickle.dump(cv, file)"
   ]
  },
  {
   "cell_type": "markdown",
   "metadata": {},
   "source": [
    "### 10. Use this notebook to complete `train.py`\n",
    "Use the template file attached in the Resources folder to write a script that runs the steps above to create a database and export a model based on a new dataset specified by the user."
   ]
  },
  {
   "cell_type": "code",
   "execution_count": null,
   "metadata": {},
   "outputs": [],
   "source": []
  }
 ],
 "metadata": {
  "kernelspec": {
   "display_name": "Python 3",
   "language": "python",
   "name": "python3"
  },
  "language_info": {
   "codemirror_mode": {
    "name": "ipython",
    "version": 3
   },
   "file_extension": ".py",
   "mimetype": "text/x-python",
   "name": "python",
   "nbconvert_exporter": "python",
   "pygments_lexer": "ipython3",
   "version": "3.6.3"
  }
 },
 "nbformat": 4,
 "nbformat_minor": 2
}
